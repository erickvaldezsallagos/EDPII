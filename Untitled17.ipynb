{
  "nbformat": 4,
  "nbformat_minor": 0,
  "metadata": {
    "colab": {
      "provenance": [],
      "authorship_tag": "ABX9TyPqasIkIaEeqnOuptKlNmm0",
      "include_colab_link": true
    },
    "kernelspec": {
      "name": "python3",
      "display_name": "Python 3"
    },
    "language_info": {
      "name": "python"
    }
  },
  "cells": [
    {
      "cell_type": "markdown",
      "metadata": {
        "id": "view-in-github",
        "colab_type": "text"
      },
      "source": [
        "<a href=\"https://colab.research.google.com/github/erickvaldezsallagos/EDPII/blob/main/Untitled17.ipynb\" target=\"_parent\"><img src=\"https://colab.research.google.com/assets/colab-badge.svg\" alt=\"Open In Colab\"/></a>"
      ]
    },
    {
      "cell_type": "code",
      "execution_count": null,
      "metadata": {
        "id": "jMuqSk2K8ic9"
      },
      "outputs": [],
      "source": []
    },
    {
      "cell_type": "markdown",
      "source": [
        "Método iterativo de Jacobi — Ejercicio 1 del problemario\n",
        "# Autor: VALDEZ SALLAGOS ERICK\n",
        "# Materia: EDP II\n",
        "# Fecha: 25/09/2025"
      ],
      "metadata": {
        "id": "Tt0YXu7Z8qMK"
      }
    },
    {
      "cell_type": "code",
      "source": [
        "import numpy as np\n",
        "import pandas as pd\n",
        "\n",
        "# ===== Parámetros del problema =====\n",
        "Lx = 2.0\n",
        "Ly = 2.0\n",
        "h = 2.0/3.0   # tamaño de malla\n",
        "nx = int(round(Lx/h)) + 1  # nodos en x\n",
        "ny = int(round(Ly/h)) + 1  # nodos en y\n",
        "\n",
        "x = np.linspace(0, Lx, nx)\n",
        "y = np.linspace(0, Ly, ny)\n",
        "\n",
        "# Inicializar solución\n",
        "U = np.zeros((ny, nx))  # U[j,i]\n",
        "\n",
        "# ===== Condiciones de frontera =====\n",
        "# x=2\n",
        "for j, yy in enumerate(y):\n",
        "    U[j, -1] = yy * (2 - yy)\n",
        "\n",
        "# y=2\n",
        "for i, xx in enumerate(x):\n",
        "    if 0 < xx < 1:\n",
        "        U[-1, i] = xx\n",
        "    elif 1 <= xx < 2:\n",
        "        U[-1, i] = 2 - xx\n",
        "\n",
        "# ===== Método de Jacobi =====\n",
        "tol = 1e-8\n",
        "max_iter = 10000\n",
        "interior_i = range(1, nx-1)\n",
        "interior_j = range(1, ny-1)\n",
        "\n",
        "U_old = U.copy()\n",
        "converged = False\n",
        "\n",
        "for k in range(1, max_iter+1):\n",
        "    U_new = U_old.copy()\n",
        "    for j in interior_j:\n",
        "        for i in interior_i:\n",
        "            U_new[j,i] = 0.25 * (U_old[j, i+1] + U_old[j, i-1] +\n",
        "                                 U_old[j+1, i] + U_old[j-1, i])\n",
        "    diff = np.max(np.abs(U_new - U_old))\n",
        "    if diff < tol:\n",
        "        print(f\"Convergió en {k} iteraciones con diff={diff:.2e}\")\n",
        "        U_old = U_new\n",
        "        converged = True\n",
        "        break\n",
        "    U_old = U_new\n",
        "\n",
        "if not converged:\n",
        "    print(f\"No convergió en {max_iter} iteraciones. diff final={diff:.2e}\")\n",
        "\n",
        "U = U_old\n",
        "\n",
        "# ===== Mostrar resultados en tabla =====\n",
        "rows = []\n",
        "for j in range(ny-1, -1, -1):   # orden descendente en y\n",
        "    for i in range(nx):\n",
        "        rows.append({\"x\": x[i], \"y\": y[j], \"u(x,y)\": U[j,i]})\n",
        "\n",
        "df = pd.DataFrame(rows)\n",
        "tabla = df.pivot_table(index='y', columns='x', values='u(x,y)', aggfunc='first')\n",
        "tabla = tabla.reindex(index=sorted(tabla.index, reverse=True),\n",
        "                      columns=sorted(tabla.columns))\n",
        "\n",
        "print(\"\\nTabla de la solución aproximada (u en cada nodo):\")\n",
        "print(tabla)\n",
        "\n",
        "print(\"\\nLista de nodos (x, y, u):\")\n",
        "print(df.to_string(index=False, float_format='{:0.6f}'.format))"
      ],
      "metadata": {
        "colab": {
          "base_uri": "https://localhost:8080/"
        },
        "id": "eDXhK4Jf9MtH",
        "outputId": "fc4b9cbb-121c-42e0-e60c-e85522e94c59"
      },
      "execution_count": 2,
      "outputs": [
        {
          "output_type": "stream",
          "name": "stdout",
          "text": [
            "Convergió en 26 iteraciones con diff=5.79e-09\n",
            "\n",
            "Tabla de la solución aproximada (u en cada nodo):\n",
            "x         0.000000  0.666667  1.333333  2.000000\n",
            "y                                               \n",
            "2.000000       0.0  0.666667  0.666667  0.000000\n",
            "1.333333       0.0  0.361111  0.583333  0.888889\n",
            "0.666667       0.0  0.194444  0.416667  0.888889\n",
            "0.000000       0.0  0.000000  0.000000  0.000000\n",
            "\n",
            "Lista de nodos (x, y, u):\n",
            "       x        y   u(x,y)\n",
            "0.000000 2.000000 0.000000\n",
            "0.666667 2.000000 0.666667\n",
            "1.333333 2.000000 0.666667\n",
            "2.000000 2.000000 0.000000\n",
            "0.000000 1.333333 0.000000\n",
            "0.666667 1.333333 0.361111\n",
            "1.333333 1.333333 0.583333\n",
            "2.000000 1.333333 0.888889\n",
            "0.000000 0.666667 0.000000\n",
            "0.666667 0.666667 0.194444\n",
            "1.333333 0.666667 0.416667\n",
            "2.000000 0.666667 0.888889\n",
            "0.000000 0.000000 0.000000\n",
            "0.666667 0.000000 0.000000\n",
            "1.333333 0.000000 0.000000\n",
            "2.000000 0.000000 0.000000\n"
          ]
        }
      ]
    }
  ]
}