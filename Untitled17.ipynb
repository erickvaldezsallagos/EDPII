{
  "nbformat": 4,
  "nbformat_minor": 0,
  "metadata": {
    "colab": {
      "provenance": [],
      "authorship_tag": "ABX9TyO1InM5uvGJfFVrFMjesAAS",
      "include_colab_link": true
    },
    "kernelspec": {
      "name": "python3",
      "display_name": "Python 3"
    },
    "language_info": {
      "name": "python"
    }
  },
  "cells": [
    {
      "cell_type": "markdown",
      "metadata": {
        "id": "view-in-github",
        "colab_type": "text"
      },
      "source": [
        "<a href=\"https://colab.research.google.com/github/erickvaldezsallagos/EDPII/blob/main/Untitled17.ipynb\" target=\"_parent\"><img src=\"https://colab.research.google.com/assets/colab-badge.svg\" alt=\"Open In Colab\"/></a>"
      ]
    },
    {
      "cell_type": "code",
      "execution_count": 4,
      "metadata": {
        "id": "8m6lGJdJ_0B3"
      },
      "outputs": [],
      "source": []
    },
    {
      "cell_type": "markdown",
      "source": [
        "Se quiere resolver la ecuación de Laplace mediante métodos numéricos,\n",
        "Sea\n",
        "\n",
        "$\\frac{\\partial ^2 U}{\\partial x^2}+\\frac{\\partial ^2 U}{\\partial y^2}=0$\n",
        "\n",
        "con $U(0,y)=0, \\quad U(2,y)=y(2-y) \\quad 0<y<2$\n",
        "\n",
        "$U(x,0)=0 \\quad U(x,2)=\\left\\{\\begin{matrix}\n",
        "x & \\text{ si } \\quad 0<x<1 \\\\\n",
        "2-x & \\text{ si } \\quad 1\\leq x<2 \\\\\n",
        "\\end{matrix}\\right.$\n",
        "\n",
        "con $h=\\frac{1}{2}$"
      ],
      "metadata": {
        "id": "6HKz4hLJAJjl"
      }
    },
    {
      "cell_type": "markdown",
      "source": [
        "Despejando las $U_{ij}$ se tiene\n",
        "\n",
        "$U_{11}=\\frac{1}{4}U_{21}+\\frac{1}{4}U_{12}$\n",
        "\n",
        "$U_{21}=\\frac{1}{4}U_{11}+\\frac{1}{4}U_{31}+\\frac{1}{4}U_{22}$\n",
        "\n",
        "$U_{31}=\\frac{1}{4}U_{21}+\\frac{1}{4}U_{32}+\\frac{3}{16}$\n",
        "\n",
        "$U_{12}=\\frac{1}{4}U_{11}+\\frac{1}{4}U_{22}+\\frac{1}{4}U_{13}$\n",
        "\n",
        "$U_{22}=\\frac{1}{4}U_{21}+\\frac{1}{4}U_{12}+\\frac{1}{4}U_{32}+\\frac{1}{4}U_{23}$\n",
        "\n",
        "$U_{32}=\\frac{1}{4}U_{31}+\\frac{1}{4}U_{22}+\\frac{1}{4}U_{33}+\\frac{1}{4}$\n",
        "\n",
        "$U_{13}=\\frac{1}{4}U_{12}+\\frac{1}{4}U_{23}+\\frac{1}{8}$\n",
        "\n",
        "$U_{23}=\\frac{1}{4}U_{22}+\\frac{1}{4}U_{13}+\\frac{1}{4}U_{33}+\\frac{1}{4}$\n",
        "\n",
        "$U_{33}=\\frac{1}{4}U_{32}+\\frac{1}{4}U_{23}+\\frac{5}{16}$"
      ],
      "metadata": {
        "id": "HYkXmx2xAMeE"
      }
    },
    {
      "cell_type": "code",
      "source": [],
      "metadata": {
        "id": "FRmm9FxkAZG-"
      },
      "execution_count": 4,
      "outputs": []
    },
    {
      "cell_type": "markdown",
      "source": [
        "comenzamos con importar las librerias numpy para los calculos y pandas para imprimir la tabla final"
      ],
      "metadata": {
        "id": "TV_-aYChAvNw"
      }
    },
    {
      "cell_type": "code",
      "source": [
        "import numpy as np\n",
        "import pandas as pd"
      ],
      "metadata": {
        "id": "go40KbYJA16Z"
      },
      "execution_count": 5,
      "outputs": []
    },
    {
      "cell_type": "markdown",
      "source": [
        "Definimos la matriz T el vector C y el vector inicial"
      ],
      "metadata": {
        "id": "3h4jYbgIA4mH"
      }
    },
    {
      "cell_type": "code",
      "source": [
        "V = np.array([[0, 1/4, 0, 1/4, 0, 0, 0, 0, 0],\n",
        "              [1/4, 0, 1/4, 0, 1/4, 0, 0, 0, 0],\n",
        "              [0, 1/4, 0, 0, 0, 1/4, 0, 0, 0],\n",
        "              [1/4, 0, 0, 0, 1/4, 0, 1/4, 0, 0],\n",
        "              [0, 1/4, 0, 1/4, 0, 1/4, 0, 1/4, 0],\n",
        "              [0, 0, 1/4, 0, 1/4, 0, 0, 0, 1/4],\n",
        "              [0, 0, 0, 1/4, 0, 0, 0, 1/4, 0],\n",
        "              [0, 0, 0, 0, 1/4, 0, 1/4, 0, 1/4],\n",
        "              [0, 0, 0, 0, 0, 1/4, 0, 1/4, 0],])\n",
        "\n",
        "H = np.array([0,0,3/4,0,0,1,1/2,1,5/4])\n",
        "x0 = np.array([9/32,9/32,9/32,9/32,9/32,9/32,9/32,9/32,9/32])"
      ],
      "metadata": {
        "id": "tEz1i35bA9AF"
      },
      "execution_count": 6,
      "outputs": []
    },
    {
      "cell_type": "code",
      "source": [
        "tol = 1e-2\n",
        "max_iter = 100\n",
        "tabla = []\n",
        "iteracion = 1\n",
        "error = tol + 1\n",
        "x = x0.copy()\n",
        "while error > tol and iteracion <= max_iter:\n",
        "    x_ant = x.copy()\n",
        "\n",
        "    for i in range(len(x)):\n",
        "        suma = 0\n",
        "        for j in range(len(x)):\n",
        "            if j != i:\n",
        "                suma += V[i, j] * x[j]\n",
        "        x[i] = suma + H[i]\n",
        "\n",
        "    error = np.linalg.norm(x - x_ant, ord=np.inf)\n",
        "    tabla.append([iteracion, *x, error])\n",
        "    iteracion += 1\n",
        "A = pd.DataFrame(tabla, columns=[\"Iteración\", \"x1\", \"x2\", \"x3\", \"x4\", \"x5\", \"x6\", \"x7\", \"x8\", \"x9\", \"Epsilon\"])\n",
        "print(A)"
      ],
      "metadata": {
        "colab": {
          "base_uri": "https://localhost:8080/"
        },
        "id": "SbSJKzuaBlDT",
        "outputId": "f83902aa-556c-41e8-d19b-78626f465148"
      },
      "execution_count": 7,
      "outputs": [
        {
          "output_type": "stream",
          "name": "stdout",
          "text": [
            "   Iteración        x1        x2        x3        x4        x5        x6  \\\n",
            "0          1  0.140625  0.175781  0.864258  0.175781  0.228516  1.343506   \n",
            "1          2  0.087891  0.295166  1.159668  0.232666  0.788086  1.963470   \n",
            "2          3  0.131958  0.519928  1.370850  0.449615  1.206543  2.197887   \n",
            "3          4  0.242386  0.704945  1.475708  0.633656  1.415771  2.305650   \n",
            "4          5  0.334650  0.806532  1.528046  0.735121  1.520386  2.358351   \n",
            "5          6  0.385413  0.858461  1.554203  0.787035  1.572693  2.384554   \n",
            "6          7  0.411374  0.884567  1.567280  0.813139  1.598846  2.397637   \n",
            "7          8  0.424427  0.897638  1.573819  0.826210  1.611923  2.404176   \n",
            "8          9  0.430962  0.904176  1.577088  0.832747  1.618462  2.407445   \n",
            "\n",
            "         x7        x8        x9   Epsilon  \n",
            "0  0.614258  1.281006  1.906128  1.624878  \n",
            "1  0.878418  1.893158  2.214157  0.619965  \n",
            "2  1.085693  2.126598  2.331121  0.418457  \n",
            "3  1.190063  2.234239  2.384972  0.209229  \n",
            "4  1.242340  2.286925  2.411319  0.104614  \n",
            "5  1.268490  2.313125  2.424420  0.052307  \n",
            "6  1.281566  2.326208  2.430961  0.026154  \n",
            "7  1.288104  2.332747  2.434231  0.013077  \n",
            "8  1.291374  2.336017  2.435865  0.006538  \n"
          ]
        }
      ]
    },
    {
      "cell_type": "markdown",
      "source": [
        "Agregamos un épsilon y comenzamos a iterar hasta que la distancia de $x^{k+1}-x^{k}$ $<$ $tol$\n"
      ],
      "metadata": {
        "id": "8-GULAZgC3Tf"
      }
    },
    {
      "cell_type": "markdown",
      "source": [
        "Para así imprimir la tabla"
      ],
      "metadata": {
        "id": "L3wmk6I6EfwY"
      }
    }
  ]
}